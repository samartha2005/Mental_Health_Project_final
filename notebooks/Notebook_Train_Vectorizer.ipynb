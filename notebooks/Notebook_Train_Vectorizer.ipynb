{
 "cells": [
  {
   "cell_type": "code",
   "execution_count": 11,
   "id": "47288b80",
   "metadata": {},
   "outputs": [
    {
     "data": {
      "text/plain": [
       "<module 'src.feature_extraction' from 'd:\\\\mental_health_project\\\\src\\\\feature_extraction.py'>"
      ]
     },
     "execution_count": 11,
     "metadata": {},
     "output_type": "execute_result"
    }
   ],
   "source": [
    "import importlib\n",
    "import src.feature_extraction as fe\n",
    "\n",
    "# Reload the updated feature_extraction.py\n",
    "importlib.reload(fe)\n"
   ]
  },
  {
   "cell_type": "code",
   "execution_count": 12,
   "id": "36ac5a4d",
   "metadata": {},
   "outputs": [
    {
     "name": "stdout",
     "output_type": "stream",
     "text": [
      "Vectorizer fitted and saved to results/vectorizer.pkl ✅\n"
     ]
    }
   ],
   "source": [
    "# Use the reloaded fit_vectorizer and vectorizer\n",
    "fe.fit_vectorizer(training_texts)\n",
    "\n",
    "# Save manually to results folder\n",
    "import os\n",
    "os.makedirs(\"../results\", exist_ok=True)\n",
    "\n",
    "import pickle\n",
    "with open(\"../results/vectorizer.pkl\", \"wb\") as f:\n",
    "    pickle.dump(fe.vectorizer, f)\n",
    "\n",
    "print(\"Vectorizer fitted and saved to results/vectorizer.pkl ✅\")\n"
   ]
  },
  {
   "cell_type": "code",
   "execution_count": 13,
   "id": "26173a41",
   "metadata": {},
   "outputs": [],
   "source": [
    "# Transform cleaned texts into TF-IDF features using the fitted vectorizer\n",
    "X = fe.transform_text(training_texts)\n",
    "y = labels  # your target labels\n"
   ]
  },
  {
   "cell_type": "code",
   "execution_count": 15,
   "id": "70760520",
   "metadata": {},
   "outputs": [
    {
     "data": {
      "text/plain": [
       "<module 'src.ml_model' from 'd:\\\\mental_health_project\\\\src\\\\ml_model.py'>"
      ]
     },
     "execution_count": 15,
     "metadata": {},
     "output_type": "execute_result"
    }
   ],
   "source": [
    "import importlib\n",
    "import src.ml_model as ml\n",
    "importlib.reload(ml)\n"
   ]
  },
  {
   "cell_type": "code",
   "execution_count": 16,
   "id": "fb067397",
   "metadata": {},
   "outputs": [
    {
     "name": "stdout",
     "output_type": "stream",
     "text": [
      "ML model trained and saved to results/ml_model.pkl ✅\n"
     ]
    }
   ],
   "source": [
    "ml.train_model(X, y)  # fits model in memory\n",
    "\n",
    "# Save manually to results folder\n",
    "import os\n",
    "os.makedirs(\"../results\", exist_ok=True)\n",
    "with open(\"../results/ml_model.pkl\", \"wb\") as f:\n",
    "    pickle.dump(ml.model, f)\n",
    "\n",
    "print(\"ML model trained and saved to results/ml_model.pkl ✅\")\n"
   ]
  },
  {
   "cell_type": "code",
   "execution_count": 19,
   "id": "a024bc93",
   "metadata": {},
   "outputs": [
    {
     "ename": "NameError",
     "evalue": "name 'vectorizer' is not defined",
     "output_type": "error",
     "traceback": [
      "\u001b[1;31m---------------------------------------------------------------------------\u001b[0m",
      "\u001b[1;31mNameError\u001b[0m                                 Traceback (most recent call last)",
      "Cell \u001b[1;32mIn[19], line 9\u001b[0m\n\u001b[0;32m      7\u001b[0m \u001b[38;5;66;03m# Save the fitted vectorizer\u001b[39;00m\n\u001b[0;32m      8\u001b[0m \u001b[38;5;28;01mwith\u001b[39;00m \u001b[38;5;28mopen\u001b[39m(\u001b[38;5;124m\"\u001b[39m\u001b[38;5;124msrc/models/tfidf_vectorizer.pkl\u001b[39m\u001b[38;5;124m\"\u001b[39m, \u001b[38;5;124m\"\u001b[39m\u001b[38;5;124mwb\u001b[39m\u001b[38;5;124m\"\u001b[39m) \u001b[38;5;28;01mas\u001b[39;00m f:\n\u001b[1;32m----> 9\u001b[0m     pickle\u001b[38;5;241m.\u001b[39mdump(\u001b[43mvectorizer\u001b[49m, f)\n\u001b[0;32m     11\u001b[0m \u001b[38;5;28mprint\u001b[39m(\u001b[38;5;124m\"\u001b[39m\u001b[38;5;124mTF-IDF vectorizer saved successfully!\u001b[39m\u001b[38;5;124m\"\u001b[39m)\n",
      "\u001b[1;31mNameError\u001b[0m: name 'vectorizer' is not defined"
     ]
    }
   ],
   "source": [
    "import os\n",
    "import pickle\n",
    "\n",
    "# Ensure the folder exists\n",
    "os.makedirs(\"src/models\", exist_ok=True)\n",
    "\n",
    "# Save the fitted vectorizer\n",
    "with open(\"src/models/tfidf_vectorizer.pkl\", \"wb\") as f:\n",
    "    pickle.dump(vectorizer, f)\n",
    "\n",
    "print(\"TF-IDF vectorizer saved successfully!\")\n"
   ]
  }
 ],
 "metadata": {
  "kernelspec": {
   "display_name": "mental_health",
   "language": "python",
   "name": "python3"
  },
  "language_info": {
   "codemirror_mode": {
    "name": "ipython",
    "version": 3
   },
   "file_extension": ".py",
   "mimetype": "text/x-python",
   "name": "python",
   "nbconvert_exporter": "python",
   "pygments_lexer": "ipython3",
   "version": "3.10.18"
  }
 },
 "nbformat": 4,
 "nbformat_minor": 5
}
